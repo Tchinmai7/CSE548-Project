{
 "cells": [
  {
   "cell_type": "code",
   "execution_count": null,
   "metadata": {},
   "outputs": [],
   "source": [
    "import pandas as pd\n",
    "import numpy as np\n",
    "import keras\n",
    "from keras.models import Sequential\n",
    "from keras.layers.recurrent import LSTM\n",
    "from keras.layers import Dense\n",
    "from keras.layers import Dropout\n",
    "from keras.layers import Flatten\n",
    "\n",
    "from keras.preprocessing import sequence\n",
    "from sklearn.utils import shuffle\n",
    "from sklearn.model_selection import train_test_split\n",
    "from sklearn.preprocessing import StandardScaler\n",
    "from sklearn.preprocessing import OneHotEncoder, LabelEncoder\n",
    "from sklearn.compose import ColumnTransformer,make_column_transformer\n",
    "from sklearn.metrics import accuracy_score\n",
    "import os\n",
    "import matplotlib.pyplot as plt\n",
    "from keras.utils import plot_model\n",
    "from sklearn.metrics import confusion_matrix\n",
    "import time"
   ]
  },
  {
   "cell_type": "code",
   "execution_count": null,
   "metadata": {},
   "outputs": [],
   "source": [
    "os.environ['KMP_DUPLICATE_LIB_OK']='True'"
   ]
  },
  {
   "cell_type": "code",
   "execution_count": null,
   "metadata": {},
   "outputs": [],
   "source": [
    "# Some globals\n",
    "data_set_path = 'NSL-KDD/KDDTrain+.txt'\n",
    "test_data_set_path = 'NSL-KDD/KDDTest+.txt'\n",
    "headers = ['duration', 'protocol_type','service','flag', 'src_bytes', 'dst_bytes','land', 'wrong_fragment', 'urgent', 'hot',\n",
    "         'num_failed_logins', 'logged_in','num_compromised', 'root_shell', 'su_attempted', 'num_root', 'num_file_creations',\n",
    "         'num_shells', 'num_access_files', 'num_outbound_cmds',  'is_host_login', 'is_guest_login', 'count', 'srv_count',\n",
    "         'serror_rate', 'srv_serror_rate', 'rerror_rate', 'srv_rerror_rate', 'same_srv_rate', 'diff_srv_rate','srv_diff_host_rate',\n",
    "         'dst_host_count', 'dst_host_srv_count', 'dst_host_same_srv_rate', 'dst_host_diff_srv_rate', 'dst_host_same_src_port_rate',\n",
    "         'dst_host_srv_diff_host_rate', 'dst_host_serror_rate', 'dst_host_srv_serror_rate', 'dst_host_rerror_rate','dst_host_srv_rerror_rate',\n",
    "         'type', 'difficulty']"
   ]
  },
  {
   "cell_type": "code",
   "execution_count": null,
   "metadata": {},
   "outputs": [],
   "source": [
    "# Reads the test datafile, removes the training attacks and replaces all attack names with 'attack', and returns.\n",
    "def prepare_test_data(attack1, attack2):\n",
    "    test_dataset = pd.read_csv(test_data_set_path, names=headers, header=0)\n",
    "    test_dt = test_dataset.loc[(test_dataset['type'] != attack1) & (test_dataset['type'] != attack2)]\n",
    "    test_dt['type'] = test_dt['type'].str.replace(r\"^(.(?<!normal))*?$\", \"attack\")\n",
    "    return test_dt"
   ]
  },
  {
   "cell_type": "code",
   "execution_count": null,
   "metadata": {},
   "outputs": [],
   "source": [
    "# This function returns a \"train_data\" df based on the two attacks selected\n",
    "def prepare_train_subset(normal_data, full_dataset, attack1, attack2):\n",
    "    train_subset = normal_data.copy()\n",
    "    attack1_data = full_dataset.loc[full_dataset['type'] == attack1]\n",
    "    attack2_data = full_dataset.loc[full_dataset['type'] == attack2]\n",
    "    train_subset = train_subset.append(attack1_data)\n",
    "    train_subset = train_subset.append(attack2_data)\n",
    "    train_subset = train_subset.replace(attack1, 'attack')\n",
    "    train_subset = train_subset.replace(attack2, 'attack')\n",
    "    print(\"Training subset with \" + attack1 + \" and \" + attack2 + \" with shape \")\n",
    "    print(train_subset.shape)\n",
    "    return shuffle(train_subset)"
   ]
  },
  {
   "cell_type": "code",
   "execution_count": null,
   "metadata": {},
   "outputs": [],
   "source": [
    "# Used in encoding uniformly. This returns unique categories across the train  & test datasets\n",
    "def get_unique_categories(train_data, test_data):\n",
    "    temp_service = train_data.service.unique().tolist()\n",
    "    temp_service.extend(test_data.service.unique().tolist())\n",
    "    service_categories = set(temp_service)\n",
    "    services = [ x for x in iter(service_categories) ]\n",
    "\n",
    "    protocol_type = train_data.protocol_type.unique().tolist()\n",
    "    protocol_type.extend(test_data.protocol_type.unique().tolist())\n",
    "    protocol = set(protocol_type)\n",
    "    protocols = [x for x in iter(protocol)]\n",
    "\n",
    "\n",
    "    flag = train_data.flag.unique().tolist()\n",
    "    flag.extend(test_data.flag.unique().tolist())\n",
    "    flag_val = set(flag)\n",
    "    flag_values = [x for x in iter(flag_val)]\n",
    "\n",
    "\n",
    "    categories = [protocols, services, flag_values]\n",
    "    return categories"
   ]
  },
  {
   "cell_type": "code",
   "execution_count": null,
   "metadata": {},
   "outputs": [],
   "source": [
    "# Do label and one hot encoding on the train and test datasets\n",
    "def encode_values(X, test_X, Y, test_Y, categories):\n",
    "    # First label encode 'normal' and 'attack' labels\n",
    "    labelencoder_Y = LabelEncoder()\n",
    "    processed_Y = labelencoder_Y.fit_transform(Y)\n",
    "    processed_test_Y = labelencoder_Y.transform(test_Y)\n",
    "\n",
    "    preprocess = OneHotEncoder(categories=categories)\n",
    "    processed_X = preprocess.fit_transform(X[:,1:4]).toarray()\n",
    "    processed_X = pd.concat([pd.DataFrame(X[:,0]), pd.DataFrame(processed_X), pd.DataFrame(X[:,5:])], axis=1, ignore_index=True).values\n",
    "    processed_test_X = preprocess.transform(test_X[:, 1:4]).toarray()\n",
    "    processed_test_X = pd.concat([pd.DataFrame(test_X[:,0]), pd.DataFrame(processed_test_X), pd.DataFrame(test_X[:,5:])], axis=1, ignore_index=True).values\n",
    "\n",
    "    print(\"Shape of train data after encoding is {0} and test data is {1}\".format(processed_X.shape, processed_test_X.shape))\n",
    "    return processed_X, processed_test_X, processed_Y, processed_test_Y\n"
   ]
  },
  {
   "cell_type": "code",
   "execution_count": null,
   "metadata": {},
   "outputs": [],
   "source": [
    "def prepare_data_for_classification(train_data, test_data):\n",
    "    categories = get_unique_categories(train_data, test_data)\n",
    "    X = train_data.iloc[:, 0:-2].values\n",
    "    Y = train_data.iloc[:, -2].values\n",
    "    test_X = test_data.iloc[:, 0:-2].values\n",
    "    test_Y = test_data.iloc[:, -2].values\n",
    "    print(\"Training data has shape of {0} and test data has shape of {1}\".format(X.shape, test_X.shape))\n",
    "    X_Train, X_Test, Y_Train, Y_Test = encode_values(X, test_X, Y, test_Y, categories)\n",
    "    sc = StandardScaler()\n",
    "    X_Train = sc.fit_transform(X_Train)\n",
    "    X_Test = sc.transform(X_Test)\n",
    "    print(\"Shapes of train and test data are {0}, {1}\".format(X_Train.shape, X_Test.shape))\n",
    "    x_train,x_valid,y_train,y_valid = train_test_split(X_Train, Y_Train, test_size = 0.15, random_state = 42)\n",
    "    return x_train,x_valid,y_train,y_valid, X_Test, Y_Test"
   ]
  },
  {
   "cell_type": "code",
   "execution_count": null,
   "metadata": {},
   "outputs": [],
   "source": [
    "# Train the FNN. Split train data to train & validation, encode train, validation and test datasets, predict results and return the history obj for visualization\n",
    "def train_nn(x_train,x_valid,y_train,y_valid,X_Test,Y_Test):\n",
    "    start_time = time.time()\n",
    "    classifier = Sequential()\n",
    "    classifier.add(Dense(units = 12, kernel_initializer = 'uniform', activation = 'relu', input_dim = x_train.shape[1]))\n",
    "    classifier.add(Dense(units = 12, kernel_initializer = 'uniform', activation = 'relu'))\n",
    "    classifier.add(Dense(units = 1, kernel_initializer = 'uniform', activation = 'sigmoid'))\n",
    "    classifier.compile(optimizer = 'adam', loss = 'binary_crossentropy', metrics = ['acc'])\n",
    "    classifierHistory = classifier.fit(x_train, y_train, batch_size = 100, validation_data=(x_valid, y_valid), epochs = 100)\n",
    "    train_time = time.time() - start_time\n",
    "    start_time = time.time()\n",
    "    y_pred = classifier.predict(X_Test)\n",
    "    y_pred = (y_pred > 0.9)\n",
    "    predict_time = time.time() - start_time \n",
    "    return accuracy_score(Y_Test, y_pred), classifierHistory, Y_Test, y_pred, train_time, predict_time"
   ]
  },
  {
   "cell_type": "code",
   "execution_count": null,
   "metadata": {},
   "outputs": [],
   "source": [
    "def train_rnn(_nTimesteps, x_train, x_valid, y_train, y_valid, X_Test, Y_Test):\n",
    "    X_train_sequence = []\n",
    "    y_train_sequence = []\n",
    "    x_valid_sequence = []\n",
    "    y_valid_sequence = []\n",
    "    X_Test_Sequence = []\n",
    "    Y_Test_Sequence = []\n",
    "    start_time = time.time()\n",
    "    for i in range(_nTimesteps, np.shape(X_Test)[0]):    \n",
    "        X_Test_Sequence.append(X_Test[i - _nTimesteps : i, :])  \n",
    "        Y_Test_Sequence.append(Y_Test[i - _nTimesteps : i, ])\n",
    "        \n",
    "    for i in range(_nTimesteps, np.shape(x_train)[0]):    \n",
    "        X_train_sequence.append(x_train[i - _nTimesteps : i, :])    \n",
    "        y_train_sequence.append(y_train[i - _nTimesteps : i, ])\n",
    "    \n",
    "    for i in range(_nTimesteps, np.shape(x_valid)[0]):\n",
    "        x_valid_sequence.append(x_valid[i - _nTimesteps : i, :])\n",
    "        y_valid_sequence.append(y_valid[i - _nTimesteps : i, ])\n",
    "        \n",
    "    X_train_sequence = np.array(X_train_sequence)\n",
    "    y_train_sequence = np.array(y_train_sequence)\n",
    "    x_valid_sequence = np.array(x_valid_sequence)\n",
    "    y_valid_sequence = np.array(y_valid_sequence)\n",
    "    X_Test_Sequence = np.array(X_Test_Sequence)\n",
    "    Y_Test_Sequence = np.array(Y_Test_Sequence)\n",
    "    # Initializing the RNN\n",
    "    classifier = Sequential()\n",
    "    classifier.add(LSTM(units = 20, return_sequences = True))\n",
    "    classifier.add(Dropout(0.2))\n",
    "    classifier.add(Flatten())\n",
    "    classifier.add(Dense(_nTimesteps, activation = 'sigmoid'))\n",
    "    classifier.compile(optimizer = 'adam', loss = 'binary_crossentropy', metrics = ['acc'])\n",
    "    classifierHistory = classifier.fit(X_train_sequence, y_train_sequence, batch_size = 100, validation_data=(x_valid_sequence, y_valid_sequence), epochs = 100)\n",
    "    train_time = time.time() - start_time\n",
    "    start_time = time.time()\n",
    "    y_pred = classifier.predict(X_Test_Sequence)\n",
    "    y_pred = (y_pred > 0.99999)\n",
    "    predict_time = time.time() - start_time\n",
    "    return accuracy_score(Y_Test_Sequence, y_pred), classifierHistory, Y_Test_Sequence, y_pred, train_time, predict_time"
   ]
  },
  {
   "cell_type": "code",
   "execution_count": null,
   "metadata": {},
   "outputs": [],
   "source": [
    "# Plots a graph given all params.\n",
    "def plot_graph(values, title, xlabel, ylabel, legend):\n",
    "    # Plot training & validation accuracy values\n",
    "    plt.clf()\n",
    "    for value in values:\n",
    "        plt.plot(value)\n",
    "    plt.title(title)\n",
    "    plt.ylabel(ylabel)\n",
    "    plt.xlabel(xlabel)\n",
    "    plt.legend(legend, loc='upper left')\n",
    "    plt.show()"
   ]
  },
  {
   "cell_type": "code",
   "execution_count": null,
   "metadata": {},
   "outputs": [],
   "source": [
    "# Helper to plot a bar graph.\n",
    "def show_bar(xLabels, values, title, yLabel):\n",
    "    plt.clf()\n",
    "    y_pos = np.arange(len(xLabels))\n",
    "    plt.barh(y_pos, values)\n",
    "    plt.title(title)\n",
    "    plt.yticks(y_pos, xLabels)\n",
    "    plt.xlabel(yLabel)\n",
    "    plt.show()"
   ]
  },
  {
   "cell_type": "code",
   "execution_count": null,
   "metadata": {},
   "outputs": [],
   "source": [
    "# Visualization driver. Plots graphs and bar charts\n",
    "def visualize(results):\n",
    "    legends = results['attacks']\n",
    "    plot_graph(results['acc'], \"Model Accuracy\", \"Epochs\", \"Accuracy\", legends)\n",
    "    plot_graph(results['val_acc'], \"Model Validation Accuracy\", \"Epochs\", \"Valdiation Accuracy\", legends)\n",
    "    plot_graph(results['loss'], \"Model Loss\", \"Epochs\", \"Loss\", legends)\n",
    "    plot_graph(results['val_loss'], \"Model Validation Loss\", \"Epochs\", \"Validation Loss\", legends)\n",
    "    show_bar(legends, results['accuracy'], \"Test Accuracy of each combination\", \"Test Accuracy\")\n",
    "    show_bar(legends, results['time'], \"Time Taken to train each comibation\", \"Time (in seconds)\")\n"
   ]
  },
  {
   "cell_type": "code",
   "execution_count": null,
   "metadata": {},
   "outputs": [],
   "source": [
    "def gather_metrics(results, classifierHistory, train_time, predict_time, accuracy, attack1, attack2):\n",
    "    results[\"attacks\"].append(\"{0} and {1}\".format(attack1, attack2))\n",
    "    results[\"accuracy\"].append(accuracy)\n",
    "    results[\"loss\"].append(classifierHistory.history['loss'])\n",
    "    results[\"val_loss\"].append(classifierHistory.history['val_loss'])\n",
    "    results[\"acc\"].append(classifierHistory.history['acc'])\n",
    "    results[\"val_acc\"].append(classifierHistory.history['val_acc'])\n",
    "    results[\"train_time\"].append(train_time)\n",
    "    results[\"predict_time\"].append(predict_time)\n",
    "    return results"
   ]
  },
  {
   "cell_type": "code",
   "execution_count": null,
   "metadata": {},
   "outputs": [],
   "source": [
    "def computeConfusionmatrix(results, y_test, y_pred):\n",
    "    tn, fp, fn, tp = confusion_matrix(y_test, y_pred).ravel()\n",
    "    results[\"cm\"].append([tn, fp, fn, tp])\n",
    "    return results"
   ]
  },
  {
   "cell_type": "code",
   "execution_count": null,
   "metadata": {},
   "outputs": [],
   "source": [
    "def enumerate_n_values(x_train,x_valid,y_train,y_valid,X_Test,Y_Test, attack1, attack2):\n",
    "    all_res = []\n",
    "    for i in range(1,6):\n",
    "        rnn_results = {\"attacks\" : [], \"loss\" : [], \"val_loss\" :[], \"accuracy\": [], \"acc\": [], \"val_acc\":[], \"train_time\": [], \"predict_time\":[], \"cm\": []}\n",
    "        print(\"Training rrn with n =  {0}\".format(i))\n",
    "        rnn_accuracy, rnn_classifierHistory, rnn_y_test, rnn_y_pred, train_time, predict_time = train_rnn(i,x_train,x_valid,y_train,y_valid,X_Test, Y_Test)\n",
    "        rnn_results = gather_metrics(rnn_results, rnn_classifierHistory, train_time, predict_time, rnn_accuracy, attack1, attack2)\n",
    "        rnn_results[\"n\"] = i\n",
    "        all_res.append(rnn_results)\n",
    "    return all_res"
   ]
  },
  {
   "cell_type": "code",
   "execution_count": null,
   "metadata": {},
   "outputs": [],
   "source": [
    "#driver method\n",
    "def project1main():\n",
    "    attack2_types = ['neptune', 'warezmaster', 'nmap', 'teardrop']\n",
    "    attack1_types = ['satan', 'portsweep', 'buffer_overflow','multihop']\n",
    "    full_dataset = pd.read_csv(data_set_path, names=headers, header=0)\n",
    "    val = pd.value_counts(full_dataset['type'])\n",
    "    Labels = val.index.values\n",
    "    Values = val.tolist()\n",
    "    show_bar(Labels, Values,'Distribution of Attacks', 'Number of Samples')\n",
    "    # First grab the normal data out\n",
    "    normal_data = full_dataset.loc[full_dataset['type'] == 'normal']\n",
    "    ann_results = { \"attacks\" : [], \"loss\" : [], \"val_loss\" :[], \"accuracy\": [], \"acc\": [], \"val_acc\":[], \"train_time\": [], \"predict_time\":[], \"cm\": []}\n",
    "    for attack1, attack2 in zip(attack1_types, attack2_types):\n",
    "        test_dataset = prepare_test_data(attack1, attack2)\n",
    "        train_df = prepare_train_subset(normal_data, full_dataset, attack1, attack2)\n",
    "        x_train,x_valid,y_train,y_valid,X_Test, Y_Test = prepare_data_for_classification(train_df, test_dataset)\n",
    "        accuracy, classifierHistory, y_test, y_pred, train_time, predict_time = train_nn(x_train, x_valid, y_train, y_valid, X_Test, Y_Test)\n",
    "        ann_results = gather_metrics(ann_results, classifierHistory, train_time, predict_time, accuracy, attack1, attack2)\n",
    "        computeConfusionmatrix(ann_results, y_test, y_pred)\n",
    "        print(\"Dataset has {0} and {1} attacks. The accuracy score was {2} and {3}\".format(attack1, attack2, accuracy, rnn_accuracy))\n",
    "        del(train_df)\n",
    "        del(test_dataset)\n",
    "    visualize(ann_results)"
   ]
  },
  {
   "cell_type": "code",
   "execution_count": null,
   "metadata": {},
   "outputs": [],
   "source": [
    "def compare_ANN_RNN():\n",
    "    full_dataset = pd.read_csv(data_set_path, names=headers, header=0)\n",
    "    normal_data = full_dataset.loc[full_dataset['type'] == 'normal']\n",
    "    attack1 = 'warezmaster'\n",
    "    attack2 = 'portsweep'\n",
    "    test_dataset = prepare_test_data(attack1, attack2)\n",
    "    ann_results = { \"attacks\" : [], \"loss\" : [], \"val_loss\" :[], \"accuracy\": [], \"acc\": [], \"val_acc\":[], \"train_time\": [], \"predict_time\":[], \"cm\": []}\n",
    "    train_df = prepare_train_subset(normal_data, full_dataset, attack1, attack2)\n",
    "    x_train, x_valid, y_train, y_valid, X_Test, Y_Test = prepare_data_for_classification(train_df, test_dataset)\n",
    "    accuracy, classifierHistory, y_test, y_pred, train_time, predict_time = train_nn(x_train, x_valid, y_train, y_valid, X_Test, Y_Test)\n",
    "    results = enumerate_n_values(x_train,x_valid,y_train,y_valid,X_Test,Y_Test,attack1, attack2)\n",
    "    print(ann_results)\n",
    "    print(results)\n",
    "    return results, ann_results"
   ]
  },
  {
   "cell_type": "code",
   "execution_count": null,
   "metadata": {},
   "outputs": [],
   "source": [
    "def compareAnnRnnNewData():\n",
    "    port_Scan_headers = ['Destination Port', 'Flow Duration', 'Total Fwd Packets', 'Total Backward Packets', 'Total Length of Fwd Packets', 'Total Length of Bwd Packets', 'Fwd Packet Length Max', 'Fwd Packet Length Min', 'Fwd Packet Length Mean', 'Fwd Packet Length Std', 'Bwd Packet Length Max', 'Bwd Packet Length Min', 'Bwd Packet Length Mean', 'Bwd Packet Length Std', 'Flow Bytes/s', 'Flow Packets/s', 'Flow IAT Mean', 'Flow IAT Std', 'Flow IAT Max', 'Flow IAT Min', 'Fwd IAT Total', 'Fwd IAT Mean', 'Fwd IAT Std', 'Fwd IAT Max', 'Fwd IAT Min', 'Bwd IAT Total', 'Bwd IAT Mean', 'Bwd IAT Std', 'Bwd IAT Max', 'Bwd IAT Min', 'Fwd PSH Flags', 'Bwd PSH Flags', 'Fwd URG Flags', 'Bwd URG Flags', 'Fwd Header Length', 'Bwd Header Length', 'Fwd Packets/s', 'Bwd Packets/s', 'Min Packet Length', 'Max Packet Length', 'Packet Length Mean', 'Packet Length Std', 'Packet Length Variance', 'FIN Flag Count', 'SYN Flag Count', 'RST Flag Count', 'PSH Flag Count', 'ACK Flag Count', 'URG Flag Count', 'CWE Flag Count', 'ECE Flag Count', 'Down/Up Ratio', 'Average Packet Size', 'Avg Fwd Segment Size', 'Avg Bwd Segment Size', 'Fwd Header Length.1', 'Fwd Avg Bytes/Bulk', 'Fwd Avg Packets/Bulk', 'Fwd Avg Bulk Rate', 'Bwd Avg Bytes/Bulk', 'Bwd Avg Packets/Bulk', 'Bwd Avg Bulk Rate', 'Subflow Fwd Packets', 'Subflow Fwd Bytes', 'Subflow Bwd Packets', 'Subflow Bwd Bytes', 'Init_Win_bytes_forward', 'Init_Win_bytes_backward', 'act_data_pkt_fwd', 'min_seg_size_forward', 'Active Mean', 'Active Std', 'Active Max', 'Active Min', 'Idle Mean', 'Idle Std', 'Idle Max', 'Idle Min', 'Label']\n",
    "    port_scan_dataset = pd.read_csv('MachineLearningCVE/Friday-WorkingHours-Afternoon-PortScan.pcap_ISCX.csv', names = port_Scan_headers,header=0)\n",
    "    val = pd.value_counts(port_scan_dataset.Label)\n",
    "    Labels = val.index.values\n",
    "    Values = val.tolist()\n",
    "    show_bar(Labels, Values,'Distribution of Attacks', 'Number of Samples')\n",
    "    port_scan_dataset = port_scan_dataset.replace(1.7976931348623157e+308, 0.0)\n",
    "    port_scan_dataset = port_scan_dataset.replace(\"Infinity\", 0.0)\n",
    "    port_scan_dataset = port_scan_dataset.fillna(0)\n",
    "    X = port_scan_dataset.iloc[:, 0:-1].values\n",
    "    Y = port_scan_dataset.iloc[:, -1].values\n",
    "    labelencoder_Y = LabelEncoder()\n",
    "    Y = labelencoder_Y.fit_transform(Y)\n",
    "    sc = StandardScaler()\n",
    "    X  = sc.fit_transform(X)\n",
    "    x_train,x_test,y_train,y_test = train_test_split(X, Y, test_size = 0.15, random_state = 42)\n",
    "    x_train,x_valid,y_train,y_valid = train_test_split(x_train,y_train, test_size=0.10, random_state = 42)\n",
    "    accuracy, classifierHistory, y_test, y_pred, train_time, predict_time = train_nn(x_train, x_valid, y_train, y_valid, x_test, y_test)\n",
    "    rnn_accuracy, rnn_classifierHistory, rnn_y_test, rnn_y_pred, rnn_train_time, rnn_predict_time = train_rnn(1,x_train,x_valid,y_train,y_valid, x_test, y_test)\n",
    "    print(\"ANN Accuracy: {0} took {1} to train {2} to predict\".format(accuracy, train_time, predict_time))\n",
    "    print(\"RNN Accuracy: {0} took {1} to train {2} to predict\".format(rnn_accuracy, rnn_train_time, rnn_predict_time))\n",
    "    return accuracy, rnn_accuracy\n",
    "    "
   ]
  },
  {
   "cell_type": "code",
   "execution_count": null,
   "metadata": {},
   "outputs": [],
   "source": [
    "def project2main():\n",
    "    results, ann_results = compare_ANN_RNN()\n",
    "    accuracy, rnn_accuracy = compareAnnRnnNewData()\n",
    "    accuracies = []\n",
    "    train_times = []\n",
    "    predict_times = []\n",
    "    n_values = []\n",
    "    for result in results:\n",
    "        n_values.append(result['n'])\n",
    "        accuracies.append(result['accuracy'][0])\n",
    "        train_times.append(result['train_time'][0])\n",
    "        predict_times.append(result['predict_time'][0])\n",
    "    show_bar(n_values,accuracies, \"Accuracy vs N\", \"Accuracy\")\n",
    "    show_bar(n_values,train_times, \"Train Time vs N\", \"Train Time\")\n",
    "    show_bar(n_values,predict_times, \"Predict Time vs N\", \"Predict Time\")"
   ]
  },
  {
   "cell_type": "code",
   "execution_count": null,
   "metadata": {},
   "outputs": [],
   "source": [
    "if __name__== \"__main__\":\n",
    "    project1main()\n",
    "    project2main()"
   ]
  },
  {
   "cell_type": "code",
   "execution_count": null,
   "metadata": {},
   "outputs": [],
   "source": []
  },
  {
   "cell_type": "code",
   "execution_count": null,
   "metadata": {},
   "outputs": [],
   "source": []
  },
  {
   "cell_type": "code",
   "execution_count": null,
   "metadata": {},
   "outputs": [],
   "source": []
  },
  {
   "cell_type": "code",
   "execution_count": null,
   "metadata": {},
   "outputs": [],
   "source": []
  }
 ],
 "metadata": {
  "kernelspec": {
   "display_name": "Python 3",
   "language": "python",
   "name": "python3"
  },
  "language_info": {
   "codemirror_mode": {
    "name": "ipython",
    "version": 3
   },
   "file_extension": ".py",
   "mimetype": "text/x-python",
   "name": "python",
   "nbconvert_exporter": "python",
   "pygments_lexer": "ipython3",
   "version": "3.6.8"
  }
 },
 "nbformat": 4,
 "nbformat_minor": 2
}
