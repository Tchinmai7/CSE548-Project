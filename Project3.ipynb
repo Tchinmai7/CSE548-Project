{
 "cells": [
  {
   "cell_type": "code",
   "execution_count": 3,
   "metadata": {},
   "outputs": [],
   "source": [
    "import pandas as pd\n",
    "import numpy as np\n",
    "import keras\n",
    "from keras.models import Sequential\n",
    "from keras.layers import Dense\n",
    "from sklearn.utils import shuffle\n",
    "from sklearn.model_selection import train_test_split\n",
    "from sklearn.preprocessing import StandardScaler\n",
    "from sklearn.preprocessing import OneHotEncoder, LabelEncoder\n",
    "from sklearn.compose import ColumnTransformer,make_column_transformer\n",
    "from sklearn.metrics import accuracy_score\n",
    "import os\n",
    "import matplotlib.pyplot as plt\n",
    "from keras.utils import plot_model\n",
    "from sklearn.metrics import confusion_matrix\n",
    "\n",
    "    \n",
    "os.environ['KMP_DUPLICATE_LIB_OK']='True'"
   ]
  },
  {
   "cell_type": "code",
   "execution_count": 4,
   "metadata": {},
   "outputs": [],
   "source": [
    "data_set_path = 'NSL-KDD/KDDTrain+.txt'\n",
    "test_data_set_path = 'NSL-KDD/KDDTest+.txt'\n",
    "headers=['duration', 'protocol_type','service','flag', 'src_bytes', 'dst_bytes','land', 'wrong_fragment', 'urgent', 'hot',\n",
    "         'num_failed_logins', 'logged_in','num_compromised', 'root_shell', 'su_attempted', 'num_root', 'num_file_creations',\n",
    "         'num_shells', 'num_access_files', 'num_outbound_cmds',  'is_host_login', 'is_guest_login', 'count', 'srv_count',\n",
    "         'serror_rate', 'srv_serror_rate', 'rerror_rate', 'srv_rerror_rate', 'same_srv_rate', 'diff_srv_rate','srv_diff_host_rate',\n",
    "         'dst_host_count', 'dst_host_srv_count', 'dst_host_same_srv_rate', 'dst_host_diff_srv_rate', 'dst_host_same_src_port_rate',\n",
    "         'dst_host_srv_diff_host_rate', 'dst_host_serror_rate', 'dst_host_srv_serror_rate', 'dst_host_rerror_rate','dst_host_srv_rerror_rate',\n",
    "         'type', 'difficulty']"
   ]
  },
  {
   "cell_type": "code",
   "execution_count": 13,
   "metadata": {},
   "outputs": [],
   "source": [
    "def prepare_test_data(attack1, attack2):\n",
    "    test_dataset = pd.read_csv(test_data_set_path, names=headers, header=0)\n",
    "    test_dt = test_dataset.loc[(test_dataset['type'] != attack1) & (test_dataset['type'] != attack2)]\n",
    "    test_dt['type'] = test_dt['type'].str.replace(r\"^(.(?<!normal))*?$\", \"attack\")\n",
    "    return test_dt"
   ]
  },
  {
   "cell_type": "code",
   "execution_count": 14,
   "metadata": {},
   "outputs": [],
   "source": [
    "# This function returns a \"train_data\" df based on the two attacks selected\n",
    "def prepare_train_subset(normal_data, full_dataset, attack1, attack2):\n",
    "    train_subset = normal_data.copy()\n",
    "    attack1_data = full_dataset.loc[full_dataset['type'] == attack1]\n",
    "    attack2_data = full_dataset.loc[full_dataset['type'] == attack2]\n",
    "    train_subset = train_subset.append(attack1_data)\n",
    "    train_subset = train_subset.append(attack2_data)\n",
    "    train_subset = train_subset.replace(attack1, 'attack')\n",
    "    train_subset = train_subset.replace(attack2, 'attack')\n",
    "    print(\"Training subset with \" + attack1 + \" and \" + attack2 + \" with shape \")\n",
    "    print(train_subset.shape)\n",
    "    return shuffle(train_subset)"
   ]
  },
  {
   "cell_type": "code",
   "execution_count": 15,
   "metadata": {},
   "outputs": [],
   "source": [
    "def get_unique_categories(train_data, test_data):\n",
    "    temp_service = train_data.service.unique().tolist()\n",
    "    temp_service.extend(test_data.service.unique().tolist())\n",
    "    service_categories = set(temp_service)\n",
    "    services = [ x for x in iter(service_categories) ]\n",
    "\n",
    "    protocol_type = train_data.protocol_type.unique().tolist()\n",
    "    protocol_type.extend(test_data.protocol_type.unique().tolist())\n",
    "    protocol = set(protocol_type)\n",
    "    protocols = [x for x in iter(protocol)]\n",
    "\n",
    "\n",
    "    flag = train_data.flag.unique().tolist()\n",
    "    flag.extend(test_data.flag.unique().tolist())\n",
    "    flag_val = set(flag)\n",
    "    flag_values = [x for x in iter(flag_val)]\n",
    "\n",
    "\n",
    "    categories = [protocols, services, flag_values]\n",
    "    return categories"
   ]
  },
  {
   "cell_type": "code",
   "execution_count": 16,
   "metadata": {},
   "outputs": [],
   "source": [
    "def encode_values(X, test_X, Y, test_Y, categories):\n",
    "    # First label encode 'normal' and 'attack' labels\n",
    "    labelencoder_Y = LabelEncoder()\n",
    "    processed_Y = labelencoder_Y.fit_transform(Y)\n",
    "    processed_test_Y = labelencoder_Y.transform(test_Y)\n",
    "\n",
    "    preprocess = OneHotEncoder(categories=categories)\n",
    "    processed_X = preprocess.fit_transform(X[:,1:4]).toarray()\n",
    "    processed_X = pd.concat([pd.DataFrame(X[:,0]), pd.DataFrame(processed_X), pd.DataFrame(X[:,5:])], axis=1, ignore_index=True).values\n",
    "    processed_test_X = preprocess.transform(test_X[:, 1:4]).toarray()\n",
    "    processed_test_X = pd.concat([pd.DataFrame(test_X[:,0]), pd.DataFrame(processed_test_X), pd.DataFrame(test_X[:,5:])], axis=1, ignore_index=True).values\n",
    "\n",
    "    print(\"Shape of train data after encoding is {0} and test data is {1}\".format(processed_X.shape, processed_test_X.shape))\n",
    "    return processed_X, processed_test_X, processed_Y, processed_test_Y"
   ]
  },
  {
   "cell_type": "code",
   "execution_count": 17,
   "metadata": {},
   "outputs": [],
   "source": [
    "def train_nn(train_data, test_data):\n",
    "    categories = get_unique_categories(train_data, test_data)\n",
    "    X = train_data.iloc[:, 0:-2].values\n",
    "    Y = train_data.iloc[:, -2].values\n",
    "    test_X = test_data.iloc[:, 0:-2].values\n",
    "    test_Y = test_data.iloc[:, -2].values\n",
    "    print(\"Training data has shape of {0} and test data has shape of {1}\".format(X.shape, test_X.shape))\n",
    "    X_Train, X_Test, Y_Train, Y_Test = encode_values(X, test_X, Y, test_Y, categories)\n",
    "    sc = StandardScaler()\n",
    "    X_Train = sc.fit_transform(X_Train)\n",
    "    X_Test = sc.transform(X_Test)\n",
    "    print(\"Shapes of train and test data are {0}, {1}\".format(X_Train.shape, X_Test.shape))\n",
    "    x_train,x_valid,y_train,y_valid = train_test_split(X_Train, Y_Train, test_size = 0.15, random_state = 42)\n",
    "    classifier = Sequential()\n",
    "    classifier.add(Dense(units = 12, kernel_initializer = 'uniform', activation = 'relu', input_dim = x_train.shape[1]))\n",
    "    classifier.add(Dense(units = 12, kernel_initializer = 'uniform', activation = 'relu'))\n",
    "    classifier.add(Dense(units = 1, kernel_initializer = 'uniform', activation = 'sigmoid'))\n",
    "    classifier.compile(optimizer = 'adam', loss = 'binary_crossentropy', metrics = ['acc'])\n",
    "    classifierHistory = classifier.fit(x_train, y_train, batch_size = 100, validation_data=(x_valid, y_valid), epochs = 100)\n",
    "    y_pred = classifier.predict(X_Test)\n",
    "    y_pred = (y_pred > 0.9)\n",
    "    return accuracy_score(Y_Test, y_pred), classifierHistory, Y_Test, y_pred"
   ]
  },
  {
   "cell_type": "code",
   "execution_count": 10,
   "metadata": {},
   "outputs": [
    {
     "name": "stdout",
     "output_type": "stream",
     "text": [
      "[67342, 41214, 3633, 3599, 2931, 2646, 1493, 956, 892, 890, 201, 53, 30, 20, 18, 11, 10, 9, 8, 7, 4, 3, 2]\n"
     ]
    }
   ],
   "source": [
    "attack_types = ['neptune','warezclient','ipsweep','portsweep','teardrop','nmap', 'satan', 'smurf', 'pod', 'back', 'guess_passwd', 'ftp_write', 'multihop', 'rootkit', 'buffer_overflow', 'imap', 'warezmaster', 'phf', 'land', 'loadmodule','spy','perl']\n",
    "full_dataset = pd.read_csv(data_set_path, names=headers, header=0)\n",
    "val = pd.value_counts(full_dataset['type'])\n",
    "Labels = val.index.values\n",
    "Values = val.tolist()\n",
    "print(Values)\n"
   ]
  },
  {
   "cell_type": "code",
   "execution_count": 24,
   "metadata": {},
   "outputs": [
    {
     "name": "stderr",
     "output_type": "stream",
     "text": [
      "/Users/tchinmai/anaconda3/lib/python3.7/site-packages/ipykernel_launcher.py:4: SettingWithCopyWarning: \n",
      "A value is trying to be set on a copy of a slice from a DataFrame.\n",
      "Try using .loc[row_indexer,col_indexer] = value instead\n",
      "\n",
      "See the caveats in the documentation: http://pandas.pydata.org/pandas-docs/stable/indexing.html#indexing-view-versus-copy\n",
      "  after removing the cwd from sys.path.\n"
     ]
    },
    {
     "name": "stdout",
     "output_type": "stream",
     "text": [
      "Training subset with nmap and buffer_overflow with shape \n",
      "(68865, 43)\n",
      "Training data has shape of (68865, 41) and test data has shape of (22450, 41)\n",
      "Shape of train data after encoding is (68865, 117) and test data is (22450, 117)\n"
     ]
    },
    {
     "name": "stderr",
     "output_type": "stream",
     "text": [
      "/Users/tchinmai/anaconda3/lib/python3.7/site-packages/sklearn/utils/validation.py:595: DataConversionWarning: Data with input dtype object was converted to float64 by StandardScaler.\n",
      "  warnings.warn(msg, DataConversionWarning)\n",
      "/Users/tchinmai/anaconda3/lib/python3.7/site-packages/sklearn/utils/validation.py:595: DataConversionWarning: Data with input dtype object was converted to float64 by StandardScaler.\n",
      "  warnings.warn(msg, DataConversionWarning)\n",
      "/Users/tchinmai/anaconda3/lib/python3.7/site-packages/sklearn/utils/validation.py:595: DataConversionWarning: Data with input dtype object was converted to float64 by StandardScaler.\n",
      "  warnings.warn(msg, DataConversionWarning)\n"
     ]
    },
    {
     "name": "stdout",
     "output_type": "stream",
     "text": [
      "Shapes of train and test data are (68865, 117), (22450, 117)\n",
      "Train on 58535 samples, validate on 10330 samples\n",
      "Epoch 1/100\n",
      "58535/58535 [==============================] - 2s 26us/step - loss: 0.1231 - acc: 0.9778 - val_loss: 0.0232 - val_acc: 0.9917\n",
      "Epoch 2/100\n",
      "58535/58535 [==============================] - 1s 18us/step - loss: 0.0156 - acc: 0.9966 - val_loss: 0.0117 - val_acc: 0.9970\n",
      "Epoch 3/100\n",
      "58535/58535 [==============================] - 1s 18us/step - loss: 0.0096 - acc: 0.9975 - val_loss: 0.0095 - val_acc: 0.9970\n",
      "Epoch 4/100\n",
      "58535/58535 [==============================] - 1s 18us/step - loss: 0.0078 - acc: 0.9976 - val_loss: 0.0085 - val_acc: 0.9971\n",
      "Epoch 5/100\n",
      "58535/58535 [==============================] - 1s 18us/step - loss: 0.0071 - acc: 0.9979 - val_loss: 0.0076 - val_acc: 0.9978\n",
      "Epoch 6/100\n",
      "58535/58535 [==============================] - 1s 18us/step - loss: 0.0066 - acc: 0.9981 - val_loss: 0.0076 - val_acc: 0.9979\n",
      "Epoch 7/100\n",
      "58535/58535 [==============================] - 1s 18us/step - loss: 0.0065 - acc: 0.9982 - val_loss: 0.0074 - val_acc: 0.9979\n",
      "Epoch 8/100\n",
      "58535/58535 [==============================] - 1s 19us/step - loss: 0.0064 - acc: 0.9982 - val_loss: 0.0076 - val_acc: 0.9981\n",
      "Epoch 9/100\n",
      "58535/58535 [==============================] - 1s 18us/step - loss: 0.0062 - acc: 0.9982 - val_loss: 0.0070 - val_acc: 0.9980\n",
      "Epoch 10/100\n",
      "58535/58535 [==============================] - 1s 23us/step - loss: 0.0062 - acc: 0.9982 - val_loss: 0.0072 - val_acc: 0.9979\n",
      "Epoch 11/100\n",
      "58535/58535 [==============================] - 1s 21us/step - loss: 0.0060 - acc: 0.9982 - val_loss: 0.0073 - val_acc: 0.9982\n",
      "Epoch 12/100\n",
      "58535/58535 [==============================] - 1s 23us/step - loss: 0.0060 - acc: 0.9983 - val_loss: 0.0067 - val_acc: 0.9981\n",
      "Epoch 13/100\n",
      "58535/58535 [==============================] - 1s 20us/step - loss: 0.0060 - acc: 0.9982 - val_loss: 0.0067 - val_acc: 0.9984\n",
      "Epoch 14/100\n",
      "58535/58535 [==============================] - 1s 21us/step - loss: 0.0060 - acc: 0.9983 - val_loss: 0.0066 - val_acc: 0.9983\n",
      "Epoch 15/100\n",
      "58535/58535 [==============================] - 1s 21us/step - loss: 0.0059 - acc: 0.9983 - val_loss: 0.0068 - val_acc: 0.9982\n",
      "Epoch 16/100\n",
      "58535/58535 [==============================] - 1s 20us/step - loss: 0.0060 - acc: 0.9983 - val_loss: 0.0066 - val_acc: 0.9982\n",
      "Epoch 17/100\n",
      "58535/58535 [==============================] - 1s 20us/step - loss: 0.0057 - acc: 0.9984 - val_loss: 0.0069 - val_acc: 0.9982\n",
      "Epoch 18/100\n",
      "58535/58535 [==============================] - 1s 20us/step - loss: 0.0058 - acc: 0.9983 - val_loss: 0.0067 - val_acc: 0.9980\n",
      "Epoch 19/100\n",
      "58535/58535 [==============================] - 1s 20us/step - loss: 0.0058 - acc: 0.9984 - val_loss: 0.0067 - val_acc: 0.9983\n",
      "Epoch 20/100\n",
      "58535/58535 [==============================] - 1s 19us/step - loss: 0.0057 - acc: 0.9985 - val_loss: 0.0067 - val_acc: 0.9983\n",
      "Epoch 21/100\n",
      "58535/58535 [==============================] - 1s 21us/step - loss: 0.0057 - acc: 0.9984 - val_loss: 0.0066 - val_acc: 0.9981\n",
      "Epoch 22/100\n",
      "58535/58535 [==============================] - 1s 25us/step - loss: 0.0057 - acc: 0.9983 - val_loss: 0.0064 - val_acc: 0.9983\n",
      "Epoch 23/100\n",
      "58535/58535 [==============================] - 2s 35us/step - loss: 0.0056 - acc: 0.9984 - val_loss: 0.0066 - val_acc: 0.9983\n",
      "Epoch 24/100\n",
      "58535/58535 [==============================] - 2s 34us/step - loss: 0.0056 - acc: 0.9984 - val_loss: 0.0067 - val_acc: 0.9978\n",
      "Epoch 25/100\n",
      "58535/58535 [==============================] - 2s 32us/step - loss: 0.0055 - acc: 0.9984 - val_loss: 0.0063 - val_acc: 0.9983\n",
      "Epoch 26/100\n",
      "58535/58535 [==============================] - 2s 39us/step - loss: 0.0055 - acc: 0.9985 - val_loss: 0.0062 - val_acc: 0.9984\n",
      "Epoch 27/100\n",
      "58535/58535 [==============================] - 2s 31us/step - loss: 0.0056 - acc: 0.9984 - val_loss: 0.0063 - val_acc: 0.9985\n",
      "Epoch 28/100\n",
      "58535/58535 [==============================] - 2s 37us/step - loss: 0.0054 - acc: 0.9985 - val_loss: 0.0075 - val_acc: 0.9974\n",
      "Epoch 29/100\n",
      "58535/58535 [==============================] - 2s 37us/step - loss: 0.0055 - acc: 0.9985 - val_loss: 0.0070 - val_acc: 0.9980\n",
      "Epoch 30/100\n",
      "58535/58535 [==============================] - 2s 35us/step - loss: 0.0055 - acc: 0.9985 - val_loss: 0.0062 - val_acc: 0.9983\n",
      "Epoch 31/100\n",
      "58535/58535 [==============================] - 1s 24us/step - loss: 0.0054 - acc: 0.9985 - val_loss: 0.0063 - val_acc: 0.9983\n",
      "Epoch 32/100\n",
      "58535/58535 [==============================] - 2s 29us/step - loss: 0.0054 - acc: 0.9984 - val_loss: 0.0062 - val_acc: 0.9984\n",
      "Epoch 33/100\n",
      "58535/58535 [==============================] - 2s 28us/step - loss: 0.0054 - acc: 0.9985 - val_loss: 0.0062 - val_acc: 0.9981\n",
      "Epoch 34/100\n",
      "58535/58535 [==============================] - 2s 27us/step - loss: 0.0052 - acc: 0.9985 - val_loss: 0.0063 - val_acc: 0.9984\n",
      "Epoch 35/100\n",
      "58535/58535 [==============================] - 1s 24us/step - loss: 0.0053 - acc: 0.9985 - val_loss: 0.0062 - val_acc: 0.9983\n",
      "Epoch 36/100\n",
      "58535/58535 [==============================] - 2s 30us/step - loss: 0.0053 - acc: 0.9985 - val_loss: 0.0062 - val_acc: 0.9985\n",
      "Epoch 37/100\n",
      "58535/58535 [==============================] - 2s 33us/step - loss: 0.0052 - acc: 0.9986 - val_loss: 0.0062 - val_acc: 0.9985\n",
      "Epoch 38/100\n",
      "58535/58535 [==============================] - 1s 21us/step - loss: 0.0052 - acc: 0.9985 - val_loss: 0.0062 - val_acc: 0.9985\n",
      "Epoch 39/100\n",
      "58535/58535 [==============================] - 1s 20us/step - loss: 0.0052 - acc: 0.9985 - val_loss: 0.0062 - val_acc: 0.9984\n",
      "Epoch 40/100\n",
      "58535/58535 [==============================] - 1s 20us/step - loss: 0.0052 - acc: 0.9985 - val_loss: 0.0058 - val_acc: 0.9983\n",
      "Epoch 41/100\n",
      "58535/58535 [==============================] - 1s 23us/step - loss: 0.0053 - acc: 0.9985 - val_loss: 0.0060 - val_acc: 0.9985\n",
      "Epoch 42/100\n",
      "58535/58535 [==============================] - 3s 46us/step - loss: 0.0052 - acc: 0.9985 - val_loss: 0.0062 - val_acc: 0.9982\n",
      "Epoch 43/100\n",
      "58535/58535 [==============================] - 2s 39us/step - loss: 0.0054 - acc: 0.9985 - val_loss: 0.0060 - val_acc: 0.9985\n",
      "Epoch 44/100\n",
      "58535/58535 [==============================] - 2s 27us/step - loss: 0.0052 - acc: 0.9985 - val_loss: 0.0062 - val_acc: 0.9982\n",
      "Epoch 45/100\n",
      "58535/58535 [==============================] - 1s 23us/step - loss: 0.0052 - acc: 0.9985 - val_loss: 0.0064 - val_acc: 0.9982\n",
      "Epoch 46/100\n",
      "58535/58535 [==============================] - 1s 21us/step - loss: 0.0053 - acc: 0.9985 - val_loss: 0.0061 - val_acc: 0.9983\n",
      "Epoch 47/100\n",
      "58535/58535 [==============================] - 1s 22us/step - loss: 0.0051 - acc: 0.9986 - val_loss: 0.0061 - val_acc: 0.9982\n",
      "Epoch 48/100\n",
      "58535/58535 [==============================] - 1s 21us/step - loss: 0.0057 - acc: 0.9984 - val_loss: 0.0067 - val_acc: 0.9980\n",
      "Epoch 49/100\n",
      "58535/58535 [==============================] - 1s 20us/step - loss: 0.0058 - acc: 0.9985 - val_loss: 0.0065 - val_acc: 0.9980\n",
      "Epoch 50/100\n",
      "58535/58535 [==============================] - 2s 29us/step - loss: 0.0057 - acc: 0.9986 - val_loss: 0.0060 - val_acc: 0.9980\n",
      "Epoch 51/100\n",
      "58535/58535 [==============================] - 1s 22us/step - loss: 0.0057 - acc: 0.9985 - val_loss: 0.0062 - val_acc: 0.9983\n",
      "Epoch 52/100\n",
      "58535/58535 [==============================] - 1s 22us/step - loss: 0.0057 - acc: 0.9985 - val_loss: 0.0059 - val_acc: 0.9985\n",
      "Epoch 53/100\n",
      "58535/58535 [==============================] - 1s 20us/step - loss: 0.0057 - acc: 0.9984 - val_loss: 0.0060 - val_acc: 0.9984\n",
      "Epoch 54/100\n",
      "58535/58535 [==============================] - 1s 18us/step - loss: 0.0056 - acc: 0.9986 - val_loss: 0.0061 - val_acc: 0.9983\n",
      "Epoch 55/100\n",
      "58535/58535 [==============================] - 1s 23us/step - loss: 0.0058 - acc: 0.9984 - val_loss: 0.0059 - val_acc: 0.9984\n",
      "Epoch 56/100\n",
      "58535/58535 [==============================] - 1s 23us/step - loss: 0.0056 - acc: 0.9986 - val_loss: 0.0059 - val_acc: 0.9985\n",
      "Epoch 57/100\n",
      "58535/58535 [==============================] - 1s 22us/step - loss: 0.0058 - acc: 0.9985 - val_loss: 0.0059 - val_acc: 0.9984\n",
      "Epoch 58/100\n",
      "58535/58535 [==============================] - 1s 19us/step - loss: 0.0056 - acc: 0.9986 - val_loss: 0.0057 - val_acc: 0.9985\n",
      "Epoch 59/100\n",
      "58535/58535 [==============================] - 1s 19us/step - loss: 0.0055 - acc: 0.9985 - val_loss: 0.0058 - val_acc: 0.9985\n",
      "Epoch 60/100\n",
      "58535/58535 [==============================] - 1s 19us/step - loss: 0.0056 - acc: 0.9986 - val_loss: 0.0058 - val_acc: 0.9984\n",
      "Epoch 61/100\n",
      "58535/58535 [==============================] - 1s 17us/step - loss: 0.0054 - acc: 0.9985 - val_loss: 0.0058 - val_acc: 0.9985\n",
      "Epoch 62/100\n",
      "58535/58535 [==============================] - 1s 24us/step - loss: 0.0053 - acc: 0.9986 - val_loss: 0.0059 - val_acc: 0.9984\n",
      "Epoch 63/100\n",
      "58535/58535 [==============================] - 1s 20us/step - loss: 0.0054 - acc: 0.9985 - val_loss: 0.0058 - val_acc: 0.9983\n",
      "Epoch 64/100\n",
      "58535/58535 [==============================] - 1s 18us/step - loss: 0.0054 - acc: 0.9985 - val_loss: 0.0058 - val_acc: 0.9985\n",
      "Epoch 65/100\n",
      "58535/58535 [==============================] - 1s 21us/step - loss: 0.0054 - acc: 0.9986 - val_loss: 0.0060 - val_acc: 0.9984\n",
      "Epoch 66/100\n",
      "58535/58535 [==============================] - 2s 27us/step - loss: 0.0055 - acc: 0.9985 - val_loss: 0.0062 - val_acc: 0.9984\n",
      "Epoch 67/100\n",
      "58535/58535 [==============================] - 1s 20us/step - loss: 0.0054 - acc: 0.9985 - val_loss: 0.0061 - val_acc: 0.9985\n",
      "Epoch 68/100\n",
      "58535/58535 [==============================] - 1s 19us/step - loss: 0.0053 - acc: 0.9986 - val_loss: 0.0059 - val_acc: 0.9985\n",
      "Epoch 69/100\n",
      "58535/58535 [==============================] - 1s 23us/step - loss: 0.0055 - acc: 0.9985 - val_loss: 0.0057 - val_acc: 0.9985\n",
      "Epoch 70/100\n",
      "58535/58535 [==============================] - 1s 17us/step - loss: 0.0053 - acc: 0.9985 - val_loss: 0.0059 - val_acc: 0.9983\n",
      "Epoch 71/100\n",
      "58535/58535 [==============================] - 1s 18us/step - loss: 0.0053 - acc: 0.9986 - val_loss: 0.0056 - val_acc: 0.9985\n",
      "Epoch 72/100\n",
      "58535/58535 [==============================] - 1s 17us/step - loss: 0.0052 - acc: 0.9986 - val_loss: 0.0059 - val_acc: 0.9984\n",
      "Epoch 73/100\n",
      "58535/58535 [==============================] - 1s 18us/step - loss: 0.0050 - acc: 0.9986 - val_loss: 0.0056 - val_acc: 0.9985\n",
      "Epoch 74/100\n",
      "58535/58535 [==============================] - 1s 18us/step - loss: 0.0050 - acc: 0.9987 - val_loss: 0.0057 - val_acc: 0.9982\n",
      "Epoch 75/100\n",
      "58535/58535 [==============================] - 1s 19us/step - loss: 0.0051 - acc: 0.9985 - val_loss: 0.0057 - val_acc: 0.9985\n",
      "Epoch 76/100\n",
      "58535/58535 [==============================] - 1s 18us/step - loss: 0.0050 - acc: 0.9986 - val_loss: 0.0058 - val_acc: 0.9983\n",
      "Epoch 77/100\n",
      "58535/58535 [==============================] - 1s 18us/step - loss: 0.0050 - acc: 0.9986 - val_loss: 0.0061 - val_acc: 0.9981\n",
      "Epoch 78/100\n",
      "58535/58535 [==============================] - 1s 19us/step - loss: 0.0049 - acc: 0.9986 - val_loss: 0.0057 - val_acc: 0.9985\n",
      "Epoch 79/100\n",
      "58535/58535 [==============================] - 1s 17us/step - loss: 0.0050 - acc: 0.9986 - val_loss: 0.0058 - val_acc: 0.9983\n",
      "Epoch 80/100\n",
      "58535/58535 [==============================] - 2s 26us/step - loss: 0.0051 - acc: 0.9985 - val_loss: 0.0057 - val_acc: 0.9985\n",
      "Epoch 81/100\n",
      "58535/58535 [==============================] - 1s 21us/step - loss: 0.0051 - acc: 0.9985 - val_loss: 0.0056 - val_acc: 0.9985\n",
      "Epoch 82/100\n",
      "58535/58535 [==============================] - 1s 17us/step - loss: 0.0051 - acc: 0.9986 - val_loss: 0.0056 - val_acc: 0.9985\n",
      "Epoch 83/100\n",
      "58535/58535 [==============================] - 1s 25us/step - loss: 0.0049 - acc: 0.9986 - val_loss: 0.0058 - val_acc: 0.9984\n",
      "Epoch 84/100\n",
      "58535/58535 [==============================] - 2s 39us/step - loss: 0.0050 - acc: 0.9986 - val_loss: 0.0062 - val_acc: 0.9979\n",
      "Epoch 85/100\n",
      "58535/58535 [==============================] - 2s 36us/step - loss: 0.0050 - acc: 0.9985 - val_loss: 0.0065 - val_acc: 0.9981\n",
      "Epoch 86/100\n",
      "58535/58535 [==============================] - 2s 37us/step - loss: 0.0050 - acc: 0.9986 - val_loss: 0.0057 - val_acc: 0.9985\n",
      "Epoch 87/100\n",
      "58535/58535 [==============================] - 3s 43us/step - loss: 0.0050 - acc: 0.9986 - val_loss: 0.0058 - val_acc: 0.9984\n",
      "Epoch 88/100\n",
      "58535/58535 [==============================] - 1s 25us/step - loss: 0.0051 - acc: 0.9986 - val_loss: 0.0057 - val_acc: 0.9984\n",
      "Epoch 89/100\n",
      "58535/58535 [==============================] - 1s 19us/step - loss: 0.0053 - acc: 0.9986 - val_loss: 0.0057 - val_acc: 0.9985\n",
      "Epoch 90/100\n",
      "58535/58535 [==============================] - 1s 21us/step - loss: 0.0049 - acc: 0.9987 - val_loss: 0.0060 - val_acc: 0.9984\n",
      "Epoch 91/100\n",
      "58535/58535 [==============================] - 1s 21us/step - loss: 0.0050 - acc: 0.9986 - val_loss: 0.0058 - val_acc: 0.9985\n",
      "Epoch 92/100\n",
      "58535/58535 [==============================] - 1s 21us/step - loss: 0.0050 - acc: 0.9986 - val_loss: 0.0058 - val_acc: 0.9986\n",
      "Epoch 93/100\n",
      "58535/58535 [==============================] - 1s 18us/step - loss: 0.0050 - acc: 0.9985 - val_loss: 0.0059 - val_acc: 0.9985\n",
      "Epoch 94/100\n",
      "58535/58535 [==============================] - 1s 22us/step - loss: 0.0050 - acc: 0.9987 - val_loss: 0.0059 - val_acc: 0.9985\n",
      "Epoch 95/100\n",
      "58535/58535 [==============================] - 1s 22us/step - loss: 0.0050 - acc: 0.9987 - val_loss: 0.0061 - val_acc: 0.9984\n",
      "Epoch 96/100\n",
      "58535/58535 [==============================] - 1s 23us/step - loss: 0.0050 - acc: 0.9987 - val_loss: 0.0063 - val_acc: 0.9985\n",
      "Epoch 97/100\n",
      "58535/58535 [==============================] - 1s 20us/step - loss: 0.0050 - acc: 0.9986 - val_loss: 0.0060 - val_acc: 0.9982\n",
      "Epoch 98/100\n",
      "58535/58535 [==============================] - 1s 21us/step - loss: 0.0049 - acc: 0.9987 - val_loss: 0.0063 - val_acc: 0.9983\n",
      "Epoch 99/100\n",
      "58535/58535 [==============================] - 1s 23us/step - loss: 0.0050 - acc: 0.9987 - val_loss: 0.0058 - val_acc: 0.9982\n",
      "Epoch 100/100\n",
      "58535/58535 [==============================] - 1s 23us/step - loss: 0.0047 - acc: 0.9987 - val_loss: 0.0057 - val_acc: 0.9985\n"
     ]
    }
   ],
   "source": [
    "# First grab the normal data out\n",
    "normal_data = full_dataset.loc[full_dataset['type'] == 'normal']\n",
    "#A1 - warezmaster, portsweep\n",
    "#A2 - nmap,buffer_overflow\n",
    "#A3 - teardrop, multihop\n",
    "#A4 - Neptune, Satan\n",
    "#A5 - \n",
    "#attack1 = 'warezmaster'\n",
    "#attack2 = 'portsweep'\n",
    "attack1 = 'nmap'\n",
    "attack2 = 'buffer_overflow'\n",
    "test_dataset = prepare_test_data(attack1, attack2)\n",
    "train_df = prepare_train_subset(normal_data, full_dataset, attack1, attack2)\n",
    "accuracy,classifierHistory, y_test, y_pred = train_nn(train_df, test_dataset)"
   ]
  },
  {
   "cell_type": "code",
   "execution_count": 25,
   "metadata": {},
   "outputs": [
    {
     "data": {
      "image/png": "[encoded data removed]",
      "text/plain": [
       "<Figure size 432x288 with 1 Axes>"
      ]
     },
     "metadata": {
      "needs_background": "light"
     },
     "output_type": "display_data"
    },
    {
     "data": {
      "image/png": "[encoded data removed]",
      "text/plain": [
       "<Figure size 432x288 with 1 Axes>"
      ]
     },
     "metadata": {
      "needs_background": "light"
     },
     "output_type": "display_data"
    }
   ],
   "source": [
    "# Plot training & validation accuracy values\n",
    "plt.plot(classifierHistory.history['acc'])\n",
    "plt.plot(classifierHistory.history['val_acc'])\n",
    "plt.title('Model accuracy')\n",
    "plt.ylabel('Accuracy')\n",
    "plt.xlabel('Epoch')\n",
    "plt.legend(['Train', 'Validation'], loc='upper left')\n",
    "plt.show()\n",
    "\n",
    "    # Plot training & validation loss values\n",
    "plt.plot(classifierHistory.history['loss'])\n",
    "plt.plot(classifierHistory.history['val_loss'])\n",
    "plt.title('Model loss')\n",
    "plt.ylabel('Loss')\n",
    "plt.xlabel('Epoch')\n",
    "plt.legend(['Train', 'Validation'], loc='upper left')\n",
    "plt.show()\n",
    "    "
   ]
  },
  {
   "cell_type": "code",
   "execution_count": 26,
   "metadata": {},
   "outputs": [
    {
     "name": "stdout",
     "output_type": "stream",
     "text": [
      "0.5043207126948775\n"
     ]
    }
   ],
   "source": [
    "print(accuracy)"
   ]
  },
  {
   "cell_type": "code",
   "execution_count": 27,
   "metadata": {},
   "outputs": [
    {
     "name": "stdout",
     "output_type": "stream",
     "text": [
      "[[ 1635 11104]\n",
      " [   24  9687]]\n"
     ]
    }
   ],
   "source": [
    "cm = confusion_matrix(y_test, y_pred)\n",
    "print(cm)"
   ]
  },
  {
   "cell_type": "code",
   "execution_count": null,
   "metadata": {},
   "outputs": [],
   "source": []
  },
  {
   "cell_type": "code",
   "execution_count": null,
   "metadata": {},
   "outputs": [],
   "source": []
  },
  {
   "cell_type": "code",
   "execution_count": null,
   "metadata": {},
   "outputs": [],
   "source": []
  }
 ],
 "metadata": {
  "kernelspec": {
   "display_name": "Python 3",
   "language": "python",
   "name": "python3"
  },
  "language_info": {
   "codemirror_mode": {
    "name": "ipython",
    "version": 3
   },
   "file_extension": ".py",
   "mimetype": "text/x-python",
   "name": "python",
   "nbconvert_exporter": "python",
   "pygments_lexer": "ipython3",
   "version": "3.6.8"
  }
 },
 "nbformat": 4,
 "nbformat_minor": 2
}
