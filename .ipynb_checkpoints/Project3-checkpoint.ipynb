{
 "cells": [
  {
   "cell_type": "code",
   "execution_count": 11,
   "metadata": {},
   "outputs": [],
   "source": [
    "import pandas as pd\n",
    "import numpy as np\n",
    "import keras\n",
    "from keras.models import Sequential\n",
    "from keras.layers import Dense\n",
    "from sklearn.utils import shuffle\n",
    "from sklearn.model_selection import train_test_split\n",
    "from sklearn.preprocessing import StandardScaler\n",
    "from sklearn.preprocessing import OneHotEncoder, LabelEncoder\n",
    "from sklearn.compose import ColumnTransformer,make_column_transformer\n",
    "from sklearn.metrics import accuracy_score\n",
    "import os\n",
    "import matplotlib.pyplot as plt\n",
    "from keras.utils import plot_model\n",
    "from sklearn.metrics import confusion_matrix\n",
    "\n",
    "    \n",
    "os.environ['KMP_DUPLICATE_LIB_OK']='True'"
   ]
  },
  {
   "cell_type": "code",
   "execution_count": 12,
   "metadata": {},
   "outputs": [],
   "source": [
    "data_set_path = 'NSL-KDD/KDDTrain+.txt'\n",
    "test_data_set_path = 'NSL-KDD/KDDTest+.txt'\n",
    "headers=['duration', 'protocol_type','service','flag', 'src_bytes', 'dst_bytes','land', 'wrong_fragment', 'urgent', 'hot',\n",
    "         'num_failed_logins', 'logged_in','num_compromised', 'root_shell', 'su_attempted', 'num_root', 'num_file_creations',\n",
    "         'num_shells', 'num_access_files', 'num_outbound_cmds',  'is_host_login', 'is_guest_login', 'count', 'srv_count',\n",
    "         'serror_rate', 'srv_serror_rate', 'rerror_rate', 'srv_rerror_rate', 'same_srv_rate', 'diff_srv_rate','srv_diff_host_rate',\n",
    "         'dst_host_count', 'dst_host_srv_count', 'dst_host_same_srv_rate', 'dst_host_diff_srv_rate', 'dst_host_same_src_port_rate',\n",
    "         'dst_host_srv_diff_host_rate', 'dst_host_serror_rate', 'dst_host_srv_serror_rate', 'dst_host_rerror_rate','dst_host_srv_rerror_rate',\n",
    "         'type', 'difficulty']"
   ]
  },
  {
   "cell_type": "code",
   "execution_count": 13,
   "metadata": {},
   "outputs": [],
   "source": [
    "def prepare_test_data(attack1, attack2):\n",
    "    test_dataset = pd.read_csv(test_data_set_path, names=headers, header=0)\n",
    "    test_dt = test_dataset.loc[(test_dataset['type'] != attack1) & (test_dataset['type'] != attack2)]\n",
    "    test_dt['type'] = test_dt['type'].str.replace(r\"^(.(?<!normal))*?$\", \"attack\")\n",
    "    return test_dt"
   ]
  },
  {
   "cell_type": "code",
   "execution_count": 14,
   "metadata": {},
   "outputs": [],
   "source": [
    "# This function returns a \"train_data\" df based on the two attacks selected\n",
    "def prepare_train_subset(normal_data, full_dataset, attack1, attack2):\n",
    "    train_subset = normal_data.copy()\n",
    "    attack1_data = full_dataset.loc[full_dataset['type'] == attack1]\n",
    "    attack2_data = full_dataset.loc[full_dataset['type'] == attack2]\n",
    "    train_subset = train_subset.append(attack1_data)\n",
    "    train_subset = train_subset.append(attack2_data)\n",
    "    train_subset = train_subset.replace(attack1, 'attack')\n",
    "    train_subset = train_subset.replace(attack2, 'attack')\n",
    "    print(\"Training subset with \" + attack1 + \" and \" + attack2 + \" with shape \")\n",
    "    print(train_subset.shape)\n",
    "    return shuffle(train_subset)"
   ]
  },
  {
   "cell_type": "code",
   "execution_count": 15,
   "metadata": {},
   "outputs": [],
   "source": [
    "def get_unique_categories(train_data, test_data):\n",
    "    temp_service = train_data.service.unique().tolist()\n",
    "    temp_service.extend(test_data.service.unique().tolist())\n",
    "    service_categories = set(temp_service)\n",
    "    services = [ x for x in iter(service_categories) ]\n",
    "\n",
    "    protocol_type = train_data.protocol_type.unique().tolist()\n",
    "    protocol_type.extend(test_data.protocol_type.unique().tolist())\n",
    "    protocol = set(protocol_type)\n",
    "    protocols = [x for x in iter(protocol)]\n",
    "\n",
    "\n",
    "    flag = train_data.flag.unique().tolist()\n",
    "    flag.extend(test_data.flag.unique().tolist())\n",
    "    flag_val = set(flag)\n",
    "    flag_values = [x for x in iter(flag_val)]\n",
    "\n",
    "\n",
    "    categories = [protocols, services, flag_values]\n",
    "    return categories"
   ]
  },
  {
   "cell_type": "code",
   "execution_count": 16,
   "metadata": {},
   "outputs": [],
   "source": [
    "def encode_values(X, test_X, Y, test_Y, categories):\n",
    "    # First label encode 'normal' and 'attack' labels\n",
    "    labelencoder_Y = LabelEncoder()\n",
    "    processed_Y = labelencoder_Y.fit_transform(Y)\n",
    "    processed_test_Y = labelencoder_Y.transform(test_Y)\n",
    "\n",
    "    preprocess = OneHotEncoder(categories=categories)\n",
    "    processed_X = preprocess.fit_transform(X[:,1:4]).toarray()\n",
    "    processed_X = pd.concat([pd.DataFrame(X[:,0]), pd.DataFrame(processed_X), pd.DataFrame(X[:,5:])], axis=1, ignore_index=True).values\n",
    "    processed_test_X = preprocess.transform(test_X[:, 1:4]).toarray()\n",
    "    processed_test_X = pd.concat([pd.DataFrame(test_X[:,0]), pd.DataFrame(processed_test_X), pd.DataFrame(test_X[:,5:])], axis=1, ignore_index=True).values\n",
    "\n",
    "    print(\"Shape of train data after encoding is {0} and test data is {1}\".format(processed_X.shape, processed_test_X.shape))\n",
    "    return processed_X, processed_test_X, processed_Y, processed_test_Y"
   ]
  },
  {
   "cell_type": "code",
   "execution_count": 17,
   "metadata": {},
   "outputs": [],
   "source": [
    "def train_nn(train_data, test_data):\n",
    "    categories = get_unique_categories(train_data, test_data)\n",
    "    X = train_data.iloc[:, 0:-2].values\n",
    "    Y = train_data.iloc[:, -2].values\n",
    "    test_X = test_data.iloc[:, 0:-2].values\n",
    "    test_Y = test_data.iloc[:, -2].values\n",
    "    print(\"Training data has shape of {0} and test data has shape of {1}\".format(X.shape, test_X.shape))\n",
    "    X_Train, X_Test, Y_Train, Y_Test = encode_values(X, test_X, Y, test_Y, categories)\n",
    "    sc = StandardScaler()\n",
    "    X_Train = sc.fit_transform(X_Train)\n",
    "    X_Test = sc.transform(X_Test)\n",
    "    print(\"Shapes of train and test data are {0}, {1}\".format(X_Train.shape, X_Test.shape))\n",
    "    x_train,x_valid,y_train,y_valid = train_test_split(X_Train, Y_Train, test_size = 0.15, random_state = 42)\n",
    "    classifier = Sequential()\n",
    "    classifier.add(Dense(units = 12, kernel_initializer = 'uniform', activation = 'relu', input_dim = x_train.shape[1]))\n",
    "    classifier.add(Dense(units = 12, kernel_initializer = 'uniform', activation = 'relu'))\n",
    "    classifier.add(Dense(units = 1, kernel_initializer = 'uniform', activation = 'sigmoid'))\n",
    "    classifier.compile(optimizer = 'adam', loss = 'binary_crossentropy', metrics = ['acc'])\n",
    "    classifierHistory = classifier.fit(x_train, y_train, batch_size = 100, validation_data=(x_valid, y_valid), epochs = 100)\n",
    "    y_pred = classifier.predict(X_Test)\n",
    "    y_pred = (y_pred > 0.9)\n",
    "    return accuracy_score(Y_Test, y_pred), classifierHistory, Y_Test, y_pred"
   ]
  },
  {
   "cell_type": "code",
   "execution_count": 18,
   "metadata": {},
   "outputs": [
    {
     "data": {
      "text/plain": [
       "<matplotlib.axes._subplots.AxesSubplot at 0x1a30076cf8>"
      ]
     },
     "execution_count": 18,
     "metadata": {},
     "output_type": "execute_result"
    },
    {
     "data": {
      "image/png": "[encoded data removed]",
      "text/plain": [
       "<Figure size 432x288 with 1 Axes>"
      ]
     },
     "metadata": {
      "needs_background": "light"
     },
     "output_type": "display_data"
    }
   ],
   "source": [
    "attack_types = ['neptune','warezclient','ipsweep','portsweep','teardrop','nmap', 'satan', 'smurf', 'pod', 'back', 'guess_passwd', 'ftp_write', 'multihop', 'rootkit', 'buffer_overflow', 'imap', 'warezmaster', 'phf', 'land', 'loadmodule','spy','perl']\n",
    "full_dataset = pd.read_csv(data_set_path, names=headers, header=0)\n",
    "plot = pd.value_counts(full_dataset['type']).plot.bar()\n",
    "plot"
   ]
  },
  {
   "cell_type": "code",
   "execution_count": 19,
   "metadata": {},
   "outputs": [
    {
     "name": "stderr",
     "output_type": "stream",
     "text": [
      "/Users/tchinmai/anaconda3/lib/python3.7/site-packages/ipykernel_launcher.py:4: SettingWithCopyWarning: \n",
      "A value is trying to be set on a copy of a slice from a DataFrame.\n",
      "Try using .loc[row_indexer,col_indexer] = value instead\n",
      "\n",
      "See the caveats in the documentation: http://pandas.pydata.org/pandas-docs/stable/indexing.html#indexing-view-versus-copy\n",
      "  after removing the cwd from sys.path.\n"
     ]
    },
    {
     "name": "stdout",
     "output_type": "stream",
     "text": [
      "Training subset with warezmaster and portsweep with shape \n",
      "(70293, 43)\n",
      "Training data has shape of (70293, 41) and test data has shape of (21442, 41)\n",
      "Shape of train data after encoding is (70293, 117) and test data is (21442, 117)\n"
     ]
    },
    {
     "name": "stderr",
     "output_type": "stream",
     "text": [
      "/Users/tchinmai/anaconda3/lib/python3.7/site-packages/sklearn/utils/validation.py:595: DataConversionWarning: Data with input dtype object was converted to float64 by StandardScaler.\n",
      "  warnings.warn(msg, DataConversionWarning)\n",
      "/Users/tchinmai/anaconda3/lib/python3.7/site-packages/sklearn/utils/validation.py:595: DataConversionWarning: Data with input dtype object was converted to float64 by StandardScaler.\n",
      "  warnings.warn(msg, DataConversionWarning)\n",
      "/Users/tchinmai/anaconda3/lib/python3.7/site-packages/sklearn/utils/validation.py:595: DataConversionWarning: Data with input dtype object was converted to float64 by StandardScaler.\n",
      "  warnings.warn(msg, DataConversionWarning)\n"
     ]
    },
    {
     "name": "stdout",
     "output_type": "stream",
     "text": [
      "Shapes of train and test data are (70293, 117), (21442, 117)\n",
      "WARNING:tensorflow:From /Users/tchinmai/anaconda3/lib/python3.7/site-packages/tensorflow/python/framework/op_def_library.py:263: colocate_with (from tensorflow.python.framework.ops) is deprecated and will be removed in a future version.\n",
      "Instructions for updating:\n",
      "Colocations handled automatically by placer.\n",
      "WARNING:tensorflow:From /Users/tchinmai/anaconda3/lib/python3.7/site-packages/tensorflow/python/ops/math_ops.py:3066: to_int32 (from tensorflow.python.ops.math_ops) is deprecated and will be removed in a future version.\n",
      "Instructions for updating:\n",
      "Use tf.cast instead.\n",
      "Train on 59749 samples, validate on 10544 samples\n",
      "Epoch 1/100\n",
      "59749/59749 [==============================] - 2s 34us/step - loss: 0.1363 - acc: 0.9695 - val_loss: 0.0280 - val_acc: 0.9983\n",
      "Epoch 2/100\n",
      "59749/59749 [==============================] - 2s 25us/step - loss: 0.0157 - acc: 0.9989 - val_loss: 0.0112 - val_acc: 0.9983\n",
      "Epoch 3/100\n",
      "59749/59749 [==============================] - 2s 29us/step - loss: 0.0070 - acc: 0.9991 - val_loss: 0.0068 - val_acc: 0.9987\n",
      "Epoch 4/100\n",
      "59749/59749 [==============================] - 1s 21us/step - loss: 0.0045 - acc: 0.9992 - val_loss: 0.0055 - val_acc: 0.9988\n",
      "Epoch 5/100\n",
      "59749/59749 [==============================] - 1s 22us/step - loss: 0.0035 - acc: 0.9994 - val_loss: 0.0049 - val_acc: 0.9989\n",
      "Epoch 6/100\n",
      "59749/59749 [==============================] - 1s 20us/step - loss: 0.0030 - acc: 0.9994 - val_loss: 0.0046 - val_acc: 0.9988\n",
      "Epoch 7/100\n",
      "59749/59749 [==============================] - 1s 19us/step - loss: 0.0028 - acc: 0.9995 - val_loss: 0.0048 - val_acc: 0.9990\n",
      "Epoch 8/100\n",
      "59749/59749 [==============================] - 1s 19us/step - loss: 0.0026 - acc: 0.9995 - val_loss: 0.0044 - val_acc: 0.9991\n",
      "Epoch 9/100\n",
      "59749/59749 [==============================] - 1s 19us/step - loss: 0.0025 - acc: 0.9995 - val_loss: 0.0049 - val_acc: 0.9987\n",
      "Epoch 10/100\n",
      "59749/59749 [==============================] - 1s 19us/step - loss: 0.0024 - acc: 0.9995 - val_loss: 0.0047 - val_acc: 0.9991\n",
      "Epoch 11/100\n",
      "59749/59749 [==============================] - 1s 19us/step - loss: 0.0023 - acc: 0.9995 - val_loss: 0.0049 - val_acc: 0.9991\n",
      "Epoch 12/100\n",
      "59749/59749 [==============================] - 1s 19us/step - loss: 0.0022 - acc: 0.9995 - val_loss: 0.0051 - val_acc: 0.9990\n",
      "Epoch 13/100\n",
      "59749/59749 [==============================] - 1s 19us/step - loss: 0.0021 - acc: 0.9996 - val_loss: 0.0051 - val_acc: 0.9990\n",
      "Epoch 14/100\n",
      "59749/59749 [==============================] - 1s 19us/step - loss: 0.0021 - acc: 0.9996 - val_loss: 0.0052 - val_acc: 0.9991\n",
      "Epoch 15/100\n",
      "59749/59749 [==============================] - 1s 19us/step - loss: 0.0021 - acc: 0.9996 - val_loss: 0.0052 - val_acc: 0.9991\n",
      "Epoch 16/100\n",
      "59749/59749 [==============================] - 1s 19us/step - loss: 0.0020 - acc: 0.9996 - val_loss: 0.0055 - val_acc: 0.9991\n",
      "Epoch 17/100\n",
      "59749/59749 [==============================] - 1s 21us/step - loss: 0.0020 - acc: 0.9997 - val_loss: 0.0056 - val_acc: 0.9991\n",
      "Epoch 18/100\n",
      "59749/59749 [==============================] - 1s 22us/step - loss: 0.0020 - acc: 0.9997 - val_loss: 0.0056 - val_acc: 0.9991\n",
      "Epoch 19/100\n",
      "59749/59749 [==============================] - 1s 19us/step - loss: 0.0020 - acc: 0.9996 - val_loss: 0.0056 - val_acc: 0.9991\n",
      "Epoch 20/100\n",
      "59749/59749 [==============================] - 1s 19us/step - loss: 0.0020 - acc: 0.9996 - val_loss: 0.0055 - val_acc: 0.9991\n",
      "Epoch 21/100\n",
      "59749/59749 [==============================] - 1s 19us/step - loss: 0.0020 - acc: 0.9996 - val_loss: 0.0059 - val_acc: 0.9991\n",
      "Epoch 22/100\n",
      "59749/59749 [==============================] - 1s 19us/step - loss: 0.0020 - acc: 0.9996 - val_loss: 0.0058 - val_acc: 0.9991\n",
      "Epoch 23/100\n",
      "59749/59749 [==============================] - 1s 19us/step - loss: 0.0020 - acc: 0.9997 - val_loss: 0.0059 - val_acc: 0.9991\n",
      "Epoch 24/100\n",
      "59749/59749 [==============================] - 1s 19us/step - loss: 0.0020 - acc: 0.9996 - val_loss: 0.0056 - val_acc: 0.9991\n",
      "Epoch 25/100\n",
      "59749/59749 [==============================] - 1s 19us/step - loss: 0.0019 - acc: 0.9997 - val_loss: 0.0063 - val_acc: 0.9990\n",
      "Epoch 26/100\n",
      "59749/59749 [==============================] - 1s 19us/step - loss: 0.0019 - acc: 0.9997 - val_loss: 0.0061 - val_acc: 0.9991\n",
      "Epoch 27/100\n",
      "59749/59749 [==============================] - 1s 18us/step - loss: 0.0019 - acc: 0.9997 - val_loss: 0.0060 - val_acc: 0.9990\n",
      "Epoch 28/100\n",
      "59749/59749 [==============================] - 1s 18us/step - loss: 0.0019 - acc: 0.9996 - val_loss: 0.0057 - val_acc: 0.9991\n",
      "Epoch 29/100\n",
      "59749/59749 [==============================] - 1s 18us/step - loss: 0.0020 - acc: 0.9996 - val_loss: 0.0059 - val_acc: 0.9991\n",
      "Epoch 30/100\n",
      "59749/59749 [==============================] - 1s 18us/step - loss: 0.0020 - acc: 0.9996 - val_loss: 0.0059 - val_acc: 0.9991\n",
      "Epoch 31/100\n",
      "59749/59749 [==============================] - 1s 18us/step - loss: 0.0019 - acc: 0.9997 - val_loss: 0.0060 - val_acc: 0.9991\n",
      "Epoch 32/100\n",
      "59749/59749 [==============================] - 1s 18us/step - loss: 0.0019 - acc: 0.9996 - val_loss: 0.0057 - val_acc: 0.9991\n",
      "Epoch 33/100\n",
      "59749/59749 [==============================] - 1s 18us/step - loss: 0.0020 - acc: 0.9997 - val_loss: 0.0057 - val_acc: 0.9991\n",
      "Epoch 34/100\n",
      "59749/59749 [==============================] - 1s 18us/step - loss: 0.0018 - acc: 0.9997 - val_loss: 0.0062 - val_acc: 0.9991\n",
      "Epoch 35/100\n",
      "59749/59749 [==============================] - 1s 20us/step - loss: 0.0019 - acc: 0.9997 - val_loss: 0.0058 - val_acc: 0.9991\n",
      "Epoch 36/100\n",
      "59749/59749 [==============================] - 1s 18us/step - loss: 0.0019 - acc: 0.9997 - val_loss: 0.0058 - val_acc: 0.9991\n",
      "Epoch 37/100\n",
      "59749/59749 [==============================] - 1s 18us/step - loss: 0.0019 - acc: 0.9997 - val_loss: 0.0059 - val_acc: 0.9991\n",
      "Epoch 38/100\n",
      "59749/59749 [==============================] - 1s 18us/step - loss: 0.0019 - acc: 0.9997 - val_loss: 0.0061 - val_acc: 0.9991\n",
      "Epoch 39/100\n",
      "59749/59749 [==============================] - 1s 18us/step - loss: 0.0020 - acc: 0.9996 - val_loss: 0.0063 - val_acc: 0.9991\n",
      "Epoch 40/100\n",
      "59749/59749 [==============================] - 1s 18us/step - loss: 0.0019 - acc: 0.9997 - val_loss: 0.0060 - val_acc: 0.9991\n",
      "Epoch 41/100\n",
      "59749/59749 [==============================] - 1s 18us/step - loss: 0.0018 - acc: 0.9997 - val_loss: 0.0065 - val_acc: 0.9991\n",
      "Epoch 42/100\n",
      "59749/59749 [==============================] - 1s 19us/step - loss: 0.0019 - acc: 0.9997 - val_loss: 0.0063 - val_acc: 0.9991\n",
      "Epoch 43/100\n",
      "59749/59749 [==============================] - 1s 19us/step - loss: 0.0018 - acc: 0.9997 - val_loss: 0.0060 - val_acc: 0.9991\n",
      "Epoch 44/100\n",
      "59749/59749 [==============================] - 1s 18us/step - loss: 0.0019 - acc: 0.9997 - val_loss: 0.0059 - val_acc: 0.9991\n",
      "Epoch 45/100\n",
      "59749/59749 [==============================] - 1s 18us/step - loss: 0.0019 - acc: 0.9996 - val_loss: 0.0057 - val_acc: 0.9991\n",
      "Epoch 46/100\n",
      "59749/59749 [==============================] - 1s 18us/step - loss: 0.0020 - acc: 0.9996 - val_loss: 0.0059 - val_acc: 0.9991\n",
      "Epoch 47/100\n",
      "59749/59749 [==============================] - 1s 18us/step - loss: 0.0020 - acc: 0.9996 - val_loss: 0.0060 - val_acc: 0.9991\n",
      "Epoch 48/100\n",
      "59749/59749 [==============================] - 1s 18us/step - loss: 0.0018 - acc: 0.9997 - val_loss: 0.0059 - val_acc: 0.9991\n",
      "Epoch 49/100\n",
      "59749/59749 [==============================] - 1s 18us/step - loss: 0.0019 - acc: 0.9996 - val_loss: 0.0057 - val_acc: 0.9992\n",
      "Epoch 50/100\n",
      "59749/59749 [==============================] - 1s 19us/step - loss: 0.0019 - acc: 0.9996 - val_loss: 0.0058 - val_acc: 0.9991\n",
      "Epoch 51/100\n",
      "59749/59749 [==============================] - 1s 20us/step - loss: 0.0019 - acc: 0.9997 - val_loss: 0.0058 - val_acc: 0.9991\n",
      "Epoch 52/100\n",
      "59749/59749 [==============================] - 1s 19us/step - loss: 0.0019 - acc: 0.9997 - val_loss: 0.0056 - val_acc: 0.9991\n",
      "Epoch 53/100\n",
      "59749/59749 [==============================] - 1s 18us/step - loss: 0.0019 - acc: 0.9996 - val_loss: 0.0057 - val_acc: 0.9991\n",
      "Epoch 54/100\n",
      "59749/59749 [==============================] - 1s 18us/step - loss: 0.0019 - acc: 0.9996 - val_loss: 0.0059 - val_acc: 0.9991\n",
      "Epoch 55/100\n"
     ]
    },
    {
     "name": "stdout",
     "output_type": "stream",
     "text": [
      "59749/59749 [==============================] - 1s 18us/step - loss: 0.0019 - acc: 0.9996 - val_loss: 0.0056 - val_acc: 0.9992\n",
      "Epoch 56/100\n",
      "59749/59749 [==============================] - 1s 18us/step - loss: 0.0019 - acc: 0.9997 - val_loss: 0.0061 - val_acc: 0.9992\n",
      "Epoch 57/100\n",
      "59749/59749 [==============================] - 1s 18us/step - loss: 0.0019 - acc: 0.9997 - val_loss: 0.0059 - val_acc: 0.9992\n",
      "Epoch 58/100\n",
      "59749/59749 [==============================] - 1s 18us/step - loss: 0.0019 - acc: 0.9996 - val_loss: 0.0058 - val_acc: 0.9991\n",
      "Epoch 59/100\n",
      "59749/59749 [==============================] - 1s 18us/step - loss: 0.0019 - acc: 0.9996 - val_loss: 0.0057 - val_acc: 0.9992\n",
      "Epoch 60/100\n",
      "59749/59749 [==============================] - 1s 18us/step - loss: 0.0018 - acc: 0.9997 - val_loss: 0.0058 - val_acc: 0.9991\n",
      "Epoch 61/100\n",
      "59749/59749 [==============================] - 1s 18us/step - loss: 0.0019 - acc: 0.9996 - val_loss: 0.0057 - val_acc: 0.9992\n",
      "Epoch 62/100\n",
      "59749/59749 [==============================] - 1s 18us/step - loss: 0.0018 - acc: 0.9997 - val_loss: 0.0054 - val_acc: 0.9992\n",
      "Epoch 63/100\n",
      "59749/59749 [==============================] - 1s 18us/step - loss: 0.0019 - acc: 0.9997 - val_loss: 0.0059 - val_acc: 0.9991\n",
      "Epoch 64/100\n",
      "59749/59749 [==============================] - 1s 18us/step - loss: 0.0019 - acc: 0.9996 - val_loss: 0.0058 - val_acc: 0.9991\n",
      "Epoch 65/100\n",
      "59749/59749 [==============================] - 1s 18us/step - loss: 0.0018 - acc: 0.9997 - val_loss: 0.0057 - val_acc: 0.9991\n",
      "Epoch 66/100\n",
      "59749/59749 [==============================] - 1s 18us/step - loss: 0.0018 - acc: 0.9997 - val_loss: 0.0056 - val_acc: 0.9991\n",
      "Epoch 67/100\n",
      "59749/59749 [==============================] - 1s 18us/step - loss: 0.0019 - acc: 0.9997 - val_loss: 0.0057 - val_acc: 0.9992\n",
      "Epoch 68/100\n",
      "59749/59749 [==============================] - 1s 18us/step - loss: 0.0019 - acc: 0.9996 - val_loss: 0.0055 - val_acc: 0.9992\n",
      "Epoch 69/100\n",
      "59749/59749 [==============================] - 1s 19us/step - loss: 0.0019 - acc: 0.9997 - val_loss: 0.0054 - val_acc: 0.9992\n",
      "Epoch 70/100\n",
      "59749/59749 [==============================] - 1s 19us/step - loss: 0.0019 - acc: 0.9996 - val_loss: 0.0055 - val_acc: 0.9992\n",
      "Epoch 71/100\n",
      "59749/59749 [==============================] - 1s 18us/step - loss: 0.0018 - acc: 0.9997 - val_loss: 0.0054 - val_acc: 0.9992\n",
      "Epoch 72/100\n",
      "59749/59749 [==============================] - 1s 18us/step - loss: 0.0019 - acc: 0.9997 - val_loss: 0.0057 - val_acc: 0.9991\n",
      "Epoch 73/100\n",
      "59749/59749 [==============================] - 1s 18us/step - loss: 0.0018 - acc: 0.9997 - val_loss: 0.0056 - val_acc: 0.9991\n",
      "Epoch 74/100\n",
      "59749/59749 [==============================] - 1s 18us/step - loss: 0.0019 - acc: 0.9997 - val_loss: 0.0056 - val_acc: 0.9991\n",
      "Epoch 75/100\n",
      "59749/59749 [==============================] - 1s 18us/step - loss: 0.0019 - acc: 0.9997 - val_loss: 0.0051 - val_acc: 0.9992\n",
      "Epoch 76/100\n",
      "59749/59749 [==============================] - 1s 18us/step - loss: 0.0019 - acc: 0.9997 - val_loss: 0.0056 - val_acc: 0.9992\n",
      "Epoch 77/100\n",
      "59749/59749 [==============================] - 1s 18us/step - loss: 0.0018 - acc: 0.9997 - val_loss: 0.0058 - val_acc: 0.9992\n",
      "Epoch 78/100\n",
      "59749/59749 [==============================] - 1s 18us/step - loss: 0.0019 - acc: 0.9997 - val_loss: 0.0058 - val_acc: 0.9991\n",
      "Epoch 79/100\n",
      "59749/59749 [==============================] - 1s 19us/step - loss: 0.0019 - acc: 0.9997 - val_loss: 0.0053 - val_acc: 0.9991\n",
      "Epoch 80/100\n",
      "59749/59749 [==============================] - 1s 17us/step - loss: 0.0019 - acc: 0.9996 - val_loss: 0.0055 - val_acc: 0.9992\n",
      "Epoch 81/100\n",
      "59749/59749 [==============================] - 1s 18us/step - loss: 0.0018 - acc: 0.9997 - val_loss: 0.0056 - val_acc: 0.9991\n",
      "Epoch 82/100\n",
      "59749/59749 [==============================] - 1s 18us/step - loss: 0.0019 - acc: 0.9996 - val_loss: 0.0054 - val_acc: 0.9991\n",
      "Epoch 83/100\n",
      "59749/59749 [==============================] - 1s 18us/step - loss: 0.0018 - acc: 0.9997 - val_loss: 0.0054 - val_acc: 0.9991\n",
      "Epoch 84/100\n",
      "59749/59749 [==============================] - 1s 18us/step - loss: 0.0018 - acc: 0.9997 - val_loss: 0.0059 - val_acc: 0.9991\n",
      "Epoch 85/100\n",
      "59749/59749 [==============================] - 1s 18us/step - loss: 0.0020 - acc: 0.9996 - val_loss: 0.0052 - val_acc: 0.9992\n",
      "Epoch 86/100\n",
      "59749/59749 [==============================] - 1s 18us/step - loss: 0.0018 - acc: 0.9997 - val_loss: 0.0053 - val_acc: 0.9991\n",
      "Epoch 87/100\n",
      "59749/59749 [==============================] - 1s 18us/step - loss: 0.0019 - acc: 0.9997 - val_loss: 0.0056 - val_acc: 0.9991\n",
      "Epoch 88/100\n",
      "59749/59749 [==============================] - 1s 18us/step - loss: 0.0018 - acc: 0.9997 - val_loss: 0.0061 - val_acc: 0.9991\n",
      "Epoch 89/100\n",
      "59749/59749 [==============================] - 1s 17us/step - loss: 0.0018 - acc: 0.9997 - val_loss: 0.0058 - val_acc: 0.9991\n",
      "Epoch 90/100\n",
      "59749/59749 [==============================] - 1s 18us/step - loss: 0.0018 - acc: 0.9997 - val_loss: 0.0061 - val_acc: 0.9992\n",
      "Epoch 91/100\n",
      "59749/59749 [==============================] - 1s 18us/step - loss: 0.0018 - acc: 0.9997 - val_loss: 0.0057 - val_acc: 0.9991\n",
      "Epoch 92/100\n",
      "59749/59749 [==============================] - 1s 18us/step - loss: 0.0018 - acc: 0.9997 - val_loss: 0.0061 - val_acc: 0.9991\n",
      "Epoch 93/100\n",
      "59749/59749 [==============================] - 1s 18us/step - loss: 0.0019 - acc: 0.9996 - val_loss: 0.0056 - val_acc: 0.9991\n",
      "Epoch 94/100\n",
      "59749/59749 [==============================] - 1s 18us/step - loss: 0.0019 - acc: 0.9997 - val_loss: 0.0058 - val_acc: 0.9991\n",
      "Epoch 95/100\n",
      "59749/59749 [==============================] - 1s 18us/step - loss: 0.0018 - acc: 0.9997 - val_loss: 0.0056 - val_acc: 0.9991\n",
      "Epoch 96/100\n",
      "59749/59749 [==============================] - 1s 19us/step - loss: 0.0018 - acc: 0.9997 - val_loss: 0.0058 - val_acc: 0.9991\n",
      "Epoch 97/100\n",
      "59749/59749 [==============================] - 1s 19us/step - loss: 0.0019 - acc: 0.9996 - val_loss: 0.0057 - val_acc: 0.9991\n",
      "Epoch 98/100\n",
      "59749/59749 [==============================] - 1s 19us/step - loss: 0.0019 - acc: 0.9996 - val_loss: 0.0058 - val_acc: 0.9991\n",
      "Epoch 99/100\n",
      "59749/59749 [==============================] - 1s 18us/step - loss: 0.0018 - acc: 0.9996 - val_loss: 0.0058 - val_acc: 0.9991\n",
      "Epoch 100/100\n",
      "59749/59749 [==============================] - 1s 19us/step - loss: 0.0019 - acc: 0.9997 - val_loss: 0.0056 - val_acc: 0.9991\n"
     ]
    }
   ],
   "source": [
    "# First grab the normal data out\n",
    "normal_data = full_dataset.loc[full_dataset['type'] == 'normal']\n",
    "#A1 - warezmaster, portsweep\n",
    "#A2 - nmap,buffer_overflow\n",
    "#A3 - teardrop, multihop\n",
    "#A4 - Neptune, Satan\n",
    "#A5 - \n",
    "#attack1 = 'warezmaster'\n",
    "#attack2 = 'portsweep'\n",
    "attack1 = 'nmap'\n",
    "attack2 = 'buffer_overflow'\n",
    "test_dataset = prepare_test_data(attack1, attack2)\n",
    "train_df = prepare_train_subset(normal_data, full_dataset, attack1, attack2)\n",
    "accuracy,classifierHistory, y_test, y_pred = train_nn(train_df, test_dataset)"
   ]
  },
  {
   "cell_type": "code",
   "execution_count": 20,
   "metadata": {},
   "outputs": [
    {
     "data": {
      "image/png": "[encoded data removed]",
      "text/plain": [
       "<Figure size 432x288 with 1 Axes>"
      ]
     },
     "metadata": {
      "needs_background": "light"
     },
     "output_type": "display_data"
    },
    {
     "data": {
      "image/png": "[encoded data removed]",
      "text/plain": [
       "<Figure size 432x288 with 1 Axes>"
      ]
     },
     "metadata": {
      "needs_background": "light"
     },
     "output_type": "display_data"
    }
   ],
   "source": [
    "# Plot training & validation accuracy values\n",
    "plt.plot(classifierHistory.history['acc'])\n",
    "plt.plot(classifierHistory.history['val_acc'])\n",
    "plt.title('Model accuracy')\n",
    "plt.ylabel('Accuracy')\n",
    "plt.xlabel('Epoch')\n",
    "plt.legend(['Train', 'Validation'], loc='upper left')\n",
    "plt.show()\n",
    "\n",
    "    # Plot training & validation loss values\n",
    "plt.plot(classifierHistory.history['loss'])\n",
    "plt.plot(classifierHistory.history['val_loss'])\n",
    "plt.title('Model loss')\n",
    "plt.ylabel('Loss')\n",
    "plt.xlabel('Epoch')\n",
    "plt.legend(['Train', 'Validation'], loc='upper left')\n",
    "plt.show()\n",
    "    "
   ]
  },
  {
   "cell_type": "code",
   "execution_count": 21,
   "metadata": {},
   "outputs": [
    {
     "name": "stdout",
     "output_type": "stream",
     "text": [
      "0.709168920809626\n"
     ]
    }
   ],
   "source": [
    "print(accuracy)"
   ]
  },
  {
   "cell_type": "code",
   "execution_count": 23,
   "metadata": {},
   "outputs": [
    {
     "name": "stdout",
     "output_type": "stream",
     "text": [
      "[[5572 6159]\n",
      " [  77 9634]]\n"
     ]
    }
   ],
   "source": [
    "cm = confusion_matrix(y_test, y_pred)\n",
    "print(cm)"
   ]
  },
  {
   "cell_type": "code",
   "execution_count": null,
   "metadata": {},
   "outputs": [],
   "source": []
  },
  {
   "cell_type": "code",
   "execution_count": null,
   "metadata": {},
   "outputs": [],
   "source": []
  },
  {
   "cell_type": "code",
   "execution_count": null,
   "metadata": {},
   "outputs": [],
   "source": []
  }
 ],
 "metadata": {
  "kernelspec": {
   "display_name": "Python 3",
   "language": "python",
   "name": "python3"
  },
  "language_info": {
   "codemirror_mode": {
    "name": "ipython",
    "version": 3
   },
   "file_extension": ".py",
   "mimetype": "text/x-python",
   "name": "python",
   "nbconvert_exporter": "python",
   "pygments_lexer": "ipython3",
   "version": "3.7.3"
  }
 },
 "nbformat": 4,
 "nbformat_minor": 2
}
